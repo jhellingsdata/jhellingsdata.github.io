{
 "cells": [
  {
   "cell_type": "code",
   "execution_count": 227,
   "metadata": {},
   "outputs": [
    {
     "data": {
      "text/plain": [
       "ThemeRegistry.enable('dark')"
      ]
     },
     "execution_count": 227,
     "metadata": {},
     "output_type": "execute_result"
    }
   ],
   "source": [
    "import numpy as np\n",
    "import altair as alt\n",
    "import pandas as pd\n",
    "alt.themes.enable('dark')"
   ]
  },
  {
   "cell_type": "code",
   "execution_count": 228,
   "metadata": {},
   "outputs": [],
   "source": [
    "number_of_rings = 4\n",
    "\n",
    "hex_coords = []\n",
    "\n",
    "for a in range(number_of_rings-1, -number_of_rings, -1):\n",
    "    b_start = -number_of_rings+1+a if a > 0 else -number_of_rings+1\n",
    "    b_end = number_of_rings-1 if a > 0 else number_of_rings-1+a\n",
    "    for b in range(b_start, b_end+1):\n",
    "        hex_coords.append((a, b))"
   ]
  },
  {
   "cell_type": "code",
   "execution_count": 229,
   "metadata": {},
   "outputs": [
    {
     "name": "stdout",
     "output_type": "stream",
     "text": [
      "4 0\n",
      "3 -1\n",
      "2 -2\n",
      "1 -3\n",
      "0 -4\n",
      "-1 -4\n",
      "-2 -4\n",
      "-3 -4\n",
      "-4 -4\n"
     ]
    }
   ],
   "source": [
    "number_of_rings = 5\n",
    "\n",
    "a = 4\n",
    "b_start = 0\n",
    "while True:\n",
    "\n",
    "    print(f\"{a} {b_start}\")\n",
    "\n",
    "    if a == -number_of_rings+1:\n",
    "        break\n",
    "    if b_start > -number_of_rings+1:\n",
    "        b_start -= 1\n",
    "\n",
    "    a -= 1\n",
    "\n",
    "\n"
   ]
  },
  {
   "cell_type": "code",
   "execution_count": 246,
   "metadata": {},
   "outputs": [
    {
     "name": "stdout",
     "output_type": "stream",
     "text": [
      "5.0 needed for 61 hexes\n",
      "61\n"
     ]
    },
    {
     "data": {
      "text/html": [
       "\n",
       "<style>\n",
       "  #altair-viz-a509369baa7b4c678214abab4850501c.vega-embed {\n",
       "    width: 100%;\n",
       "    display: flex;\n",
       "  }\n",
       "\n",
       "  #altair-viz-a509369baa7b4c678214abab4850501c.vega-embed details,\n",
       "  #altair-viz-a509369baa7b4c678214abab4850501c.vega-embed details summary {\n",
       "    position: relative;\n",
       "  }\n",
       "</style>\n",
       "<div id=\"altair-viz-a509369baa7b4c678214abab4850501c\"></div>\n",
       "<script type=\"text/javascript\">\n",
       "  var VEGA_DEBUG = (typeof VEGA_DEBUG == \"undefined\") ? {} : VEGA_DEBUG;\n",
       "  (function(spec, embedOpt){\n",
       "    let outputDiv = document.currentScript.previousElementSibling;\n",
       "    if (outputDiv.id !== \"altair-viz-a509369baa7b4c678214abab4850501c\") {\n",
       "      outputDiv = document.getElementById(\"altair-viz-a509369baa7b4c678214abab4850501c\");\n",
       "    }\n",
       "    const paths = {\n",
       "      \"vega\": \"https://cdn.jsdelivr.net/npm/vega@5?noext\",\n",
       "      \"vega-lib\": \"https://cdn.jsdelivr.net/npm/vega-lib?noext\",\n",
       "      \"vega-lite\": \"https://cdn.jsdelivr.net/npm/vega-lite@5.8.0?noext\",\n",
       "      \"vega-embed\": \"https://cdn.jsdelivr.net/npm/vega-embed@6?noext\",\n",
       "    };\n",
       "\n",
       "    function maybeLoadScript(lib, version) {\n",
       "      var key = `${lib.replace(\"-\", \"\")}_version`;\n",
       "      return (VEGA_DEBUG[key] == version) ?\n",
       "        Promise.resolve(paths[lib]) :\n",
       "        new Promise(function(resolve, reject) {\n",
       "          var s = document.createElement('script');\n",
       "          document.getElementsByTagName(\"head\")[0].appendChild(s);\n",
       "          s.async = true;\n",
       "          s.onload = () => {\n",
       "            VEGA_DEBUG[key] = version;\n",
       "            return resolve(paths[lib]);\n",
       "          };\n",
       "          s.onerror = () => reject(`Error loading script: ${paths[lib]}`);\n",
       "          s.src = paths[lib];\n",
       "        });\n",
       "    }\n",
       "\n",
       "    function showError(err) {\n",
       "      outputDiv.innerHTML = `<div class=\"error\" style=\"color:red;\">${err}</div>`;\n",
       "      throw err;\n",
       "    }\n",
       "\n",
       "    function displayChart(vegaEmbed) {\n",
       "      vegaEmbed(outputDiv, spec, embedOpt)\n",
       "        .catch(err => showError(`Javascript Error: ${err.message}<br>This usually means there's a typo in your chart specification. See the javascript console for the full traceback.`));\n",
       "    }\n",
       "\n",
       "    if(typeof define === \"function\" && define.amd) {\n",
       "      requirejs.config({paths});\n",
       "      require([\"vega-embed\"], displayChart, err => showError(`Error loading script: ${err.message}`));\n",
       "    } else {\n",
       "      maybeLoadScript(\"vega\", \"5\")\n",
       "        .then(() => maybeLoadScript(\"vega-lite\", \"5.8.0\"))\n",
       "        .then(() => maybeLoadScript(\"vega-embed\", \"6\"))\n",
       "        .catch(showError)\n",
       "        .then(() => displayChart(vegaEmbed));\n",
       "    }\n",
       "  })({\"usermeta\": {\"embedOptions\": {\"theme\": \"dark\"}}, \"config\": {\"view\": {\"continuousWidth\": 300, \"continuousHeight\": 300, \"strokeWidth\": 0}, \"axis\": {\"grid\": false}}, \"data\": {\"name\": \"data-7444fa2fade6e7e1a630e7cf47cc626d\"}, \"mark\": {\"type\": \"circle\", \"size\": 50}, \"encoding\": {\"color\": {\"field\": \"ring_number\", \"scale\": {\"scheme\": \"set1\"}, \"type\": \"nominal\"}, \"detail\": {\"field\": \"ring_number\", \"type\": \"quantitative\"}, \"tooltip\": [{\"field\": \"x\", \"type\": \"quantitative\"}, {\"field\": \"y\", \"type\": \"quantitative\"}, {\"field\": \"a\", \"type\": \"quantitative\"}, {\"field\": \"b\", \"type\": \"quantitative\"}, {\"field\": \"ring\", \"type\": \"quantitative\"}, {\"field\": \"index\", \"type\": \"quantitative\"}], \"x\": {\"field\": \"x\", \"type\": \"quantitative\"}, \"y\": {\"field\": \"y\", \"type\": \"quantitative\"}}, \"height\": 400, \"params\": [{\"name\": \"param_5\", \"select\": {\"type\": \"interval\", \"encodings\": [\"x\", \"y\"]}, \"bind\": \"scales\"}], \"width\": 400, \"$schema\": \"https://vega.github.io/schema/vega-lite/v5.8.0.json\", \"datasets\": {\"data-7444fa2fade6e7e1a630e7cf47cc626d\": [{\"index\": 0, \"x\": -3.4641016151377544, \"y\": -2.0, \"a\": 4.0, \"b\": 0.0, \"ring\": 16.0, \"ring_number\": 5.0}, {\"index\": 1, \"x\": -3.4641016151377544, \"y\": -1.0, \"a\": 4.0, \"b\": 1.0, \"ring\": 17.0, \"ring_number\": 5.0}, {\"index\": 2, \"x\": -3.4641016151377544, \"y\": 0.0, \"a\": 4.0, \"b\": 2.0, \"ring\": 20.0, \"ring_number\": 5.0}, {\"index\": 3, \"x\": -3.4641016151377544, \"y\": 1.0, \"a\": 4.0, \"b\": 3.0, \"ring\": 25.0, \"ring_number\": 5.0}, {\"index\": 4, \"x\": -3.4641016151377544, \"y\": 2.0, \"a\": 4.0, \"b\": 4.0, \"ring\": 32.0, \"ring_number\": 5.0}, {\"index\": 5, \"x\": -2.598076211353316, \"y\": -2.5, \"a\": 3.0, \"b\": -1.0, \"ring\": 10.0, \"ring_number\": 5.0}, {\"index\": 6, \"x\": -2.598076211353316, \"y\": -1.5, \"a\": 3.0, \"b\": 0.0, \"ring\": 9.0, \"ring_number\": 4.0}, {\"index\": 7, \"x\": -2.598076211353316, \"y\": -0.5, \"a\": 3.0, \"b\": 1.0, \"ring\": 10.0, \"ring_number\": 4.0}, {\"index\": 8, \"x\": -2.598076211353316, \"y\": 0.5, \"a\": 3.0, \"b\": 2.0, \"ring\": 13.0, \"ring_number\": 4.0}, {\"index\": 9, \"x\": -2.598076211353316, \"y\": 1.5, \"a\": 3.0, \"b\": 3.0, \"ring\": 18.0, \"ring_number\": 4.0}, {\"index\": 10, \"x\": -2.598076211353316, \"y\": 2.5, \"a\": 3.0, \"b\": 4.0, \"ring\": 25.0, \"ring_number\": 5.0}, {\"index\": 11, \"x\": -1.7320508075688772, \"y\": -3.0, \"a\": 2.0, \"b\": -2.0, \"ring\": 8.0, \"ring_number\": 5.0}, {\"index\": 12, \"x\": -1.7320508075688772, \"y\": -2.0, \"a\": 2.0, \"b\": -1.0, \"ring\": 5.0, \"ring_number\": 4.0}, {\"index\": 13, \"x\": -1.7320508075688772, \"y\": -1.0, \"a\": 2.0, \"b\": 0.0, \"ring\": 4.0, \"ring_number\": 3.0}, {\"index\": 14, \"x\": -1.7320508075688772, \"y\": 0.0, \"a\": 2.0, \"b\": 1.0, \"ring\": 5.0, \"ring_number\": 3.0}, {\"index\": 15, \"x\": -1.7320508075688772, \"y\": 1.0, \"a\": 2.0, \"b\": 2.0, \"ring\": 8.0, \"ring_number\": 3.0}, {\"index\": 16, \"x\": -1.7320508075688772, \"y\": 2.0, \"a\": 2.0, \"b\": 3.0, \"ring\": 13.0, \"ring_number\": 4.0}, {\"index\": 17, \"x\": -1.7320508075688772, \"y\": 3.0, \"a\": 2.0, \"b\": 4.0, \"ring\": 20.0, \"ring_number\": 5.0}, {\"index\": 18, \"x\": -0.8660254037844386, \"y\": -3.5, \"a\": 1.0, \"b\": -3.0, \"ring\": 10.0, \"ring_number\": 5.0}, {\"index\": 19, \"x\": -0.8660254037844386, \"y\": -2.5, \"a\": 1.0, \"b\": -2.0, \"ring\": 5.0, \"ring_number\": 4.0}, {\"index\": 20, \"x\": -0.8660254037844386, \"y\": -1.5, \"a\": 1.0, \"b\": -1.0, \"ring\": 2.0, \"ring_number\": 3.0}, {\"index\": 21, \"x\": -0.8660254037844386, \"y\": -0.5, \"a\": 1.0, \"b\": 0.0, \"ring\": 1.0, \"ring_number\": 2.0}, {\"index\": 22, \"x\": -0.8660254037844386, \"y\": 0.5, \"a\": 1.0, \"b\": 1.0, \"ring\": 2.0, \"ring_number\": 2.0}, {\"index\": 23, \"x\": -0.8660254037844386, \"y\": 1.5, \"a\": 1.0, \"b\": 2.0, \"ring\": 5.0, \"ring_number\": 3.0}, {\"index\": 24, \"x\": -0.8660254037844386, \"y\": 2.5, \"a\": 1.0, \"b\": 3.0, \"ring\": 10.0, \"ring_number\": 4.0}, {\"index\": 25, \"x\": -0.8660254037844386, \"y\": 3.5, \"a\": 1.0, \"b\": 4.0, \"ring\": 17.0, \"ring_number\": 5.0}, {\"index\": 26, \"x\": -0.0, \"y\": -4.0, \"a\": 0.0, \"b\": -4.0, \"ring\": 16.0, \"ring_number\": 5.0}, {\"index\": 27, \"x\": -0.0, \"y\": -3.0, \"a\": 0.0, \"b\": -3.0, \"ring\": 9.0, \"ring_number\": 4.0}, {\"index\": 28, \"x\": -0.0, \"y\": -2.0, \"a\": 0.0, \"b\": -2.0, \"ring\": 4.0, \"ring_number\": 3.0}, {\"index\": 29, \"x\": -0.0, \"y\": -1.0, \"a\": 0.0, \"b\": -1.0, \"ring\": 1.0, \"ring_number\": 2.0}, {\"index\": 30, \"x\": -0.0, \"y\": 0.0, \"a\": 0.0, \"b\": 0.0, \"ring\": 0.0, \"ring_number\": 1.0}, {\"index\": 31, \"x\": -0.0, \"y\": 1.0, \"a\": 0.0, \"b\": 1.0, \"ring\": 1.0, \"ring_number\": 2.0}, {\"index\": 32, \"x\": -0.0, \"y\": 2.0, \"a\": 0.0, \"b\": 2.0, \"ring\": 4.0, \"ring_number\": 3.0}, {\"index\": 33, \"x\": -0.0, \"y\": 3.0, \"a\": 0.0, \"b\": 3.0, \"ring\": 9.0, \"ring_number\": 4.0}, {\"index\": 34, \"x\": -0.0, \"y\": 4.0, \"a\": 0.0, \"b\": 4.0, \"ring\": 16.0, \"ring_number\": 5.0}, {\"index\": 35, \"x\": 0.8660254037844386, \"y\": -3.5, \"a\": -1.0, \"b\": -4.0, \"ring\": 17.0, \"ring_number\": 5.0}, {\"index\": 36, \"x\": 0.8660254037844386, \"y\": -2.5, \"a\": -1.0, \"b\": -3.0, \"ring\": 10.0, \"ring_number\": 4.0}, {\"index\": 37, \"x\": 0.8660254037844386, \"y\": -1.5, \"a\": -1.0, \"b\": -2.0, \"ring\": 5.0, \"ring_number\": 3.0}, {\"index\": 38, \"x\": 0.8660254037844386, \"y\": -0.5, \"a\": -1.0, \"b\": -1.0, \"ring\": 2.0, \"ring_number\": 2.0}, {\"index\": 39, \"x\": 0.8660254037844386, \"y\": 0.5, \"a\": -1.0, \"b\": 0.0, \"ring\": 1.0, \"ring_number\": 2.0}, {\"index\": 40, \"x\": 0.8660254037844386, \"y\": 1.5, \"a\": -1.0, \"b\": 1.0, \"ring\": 2.0, \"ring_number\": 3.0}, {\"index\": 41, \"x\": 0.8660254037844386, \"y\": 2.5, \"a\": -1.0, \"b\": 2.0, \"ring\": 5.0, \"ring_number\": 4.0}, {\"index\": 42, \"x\": 0.8660254037844386, \"y\": 3.5, \"a\": -1.0, \"b\": 3.0, \"ring\": 10.0, \"ring_number\": 5.0}, {\"index\": 43, \"x\": 1.7320508075688772, \"y\": -3.0, \"a\": -2.0, \"b\": -4.0, \"ring\": 20.0, \"ring_number\": 5.0}, {\"index\": 44, \"x\": 1.7320508075688772, \"y\": -2.0, \"a\": -2.0, \"b\": -3.0, \"ring\": 13.0, \"ring_number\": 4.0}, {\"index\": 45, \"x\": 1.7320508075688772, \"y\": -1.0, \"a\": -2.0, \"b\": -2.0, \"ring\": 8.0, \"ring_number\": 3.0}, {\"index\": 46, \"x\": 1.7320508075688772, \"y\": 0.0, \"a\": -2.0, \"b\": -1.0, \"ring\": 5.0, \"ring_number\": 3.0}, {\"index\": 47, \"x\": 1.7320508075688772, \"y\": 1.0, \"a\": -2.0, \"b\": 0.0, \"ring\": 4.0, \"ring_number\": 3.0}, {\"index\": 48, \"x\": 1.7320508075688772, \"y\": 2.0, \"a\": -2.0, \"b\": 1.0, \"ring\": 5.0, \"ring_number\": 4.0}, {\"index\": 49, \"x\": 1.7320508075688772, \"y\": 3.0, \"a\": -2.0, \"b\": 2.0, \"ring\": 8.0, \"ring_number\": 5.0}, {\"index\": 50, \"x\": 2.598076211353316, \"y\": -2.5, \"a\": -3.0, \"b\": -4.0, \"ring\": 25.0, \"ring_number\": 5.0}, {\"index\": 51, \"x\": 2.598076211353316, \"y\": -1.5, \"a\": -3.0, \"b\": -3.0, \"ring\": 18.0, \"ring_number\": 4.0}, {\"index\": 52, \"x\": 2.598076211353316, \"y\": -0.5, \"a\": -3.0, \"b\": -2.0, \"ring\": 13.0, \"ring_number\": 4.0}, {\"index\": 53, \"x\": 2.598076211353316, \"y\": 0.5, \"a\": -3.0, \"b\": -1.0, \"ring\": 10.0, \"ring_number\": 4.0}, {\"index\": 54, \"x\": 2.598076211353316, \"y\": 1.5, \"a\": -3.0, \"b\": 0.0, \"ring\": 9.0, \"ring_number\": 4.0}, {\"index\": 55, \"x\": 2.598076211353316, \"y\": 2.5, \"a\": -3.0, \"b\": 1.0, \"ring\": 10.0, \"ring_number\": 5.0}, {\"index\": 56, \"x\": 3.4641016151377544, \"y\": -2.0, \"a\": -4.0, \"b\": -4.0, \"ring\": 32.0, \"ring_number\": 5.0}, {\"index\": 57, \"x\": 3.4641016151377544, \"y\": -1.0, \"a\": -4.0, \"b\": -3.0, \"ring\": 25.0, \"ring_number\": 5.0}, {\"index\": 58, \"x\": 3.4641016151377544, \"y\": 0.0, \"a\": -4.0, \"b\": -2.0, \"ring\": 20.0, \"ring_number\": 5.0}, {\"index\": 59, \"x\": 3.4641016151377544, \"y\": 1.0, \"a\": -4.0, \"b\": -1.0, \"ring\": 17.0, \"ring_number\": 5.0}, {\"index\": 60, \"x\": 3.4641016151377544, \"y\": 2.0, \"a\": -4.0, \"b\": 0.0, \"ring\": 16.0, \"ring_number\": 5.0}]}}, {\"mode\": \"vega-lite\"});\n",
       "</script>"
      ],
      "text/plain": [
       "alt.Chart(...)"
      ]
     },
     "execution_count": 246,
     "metadata": {},
     "output_type": "execute_result"
    }
   ],
   "source": [
    "sample_coords = np.array([[1, 0], [1,1], [0,1], [-1, 0], [-1, -1], [0, -1]])\n",
    "\n",
    "\n",
    "def transform_ring_coords(coords, hex_width=1):\n",
    "    a_coords = coords[:, 0] # the first dimension (-60 degrees from the x-axis)\n",
    "    b_coords = coords[:, 1] # the second dimension (the x-axis)\n",
    "\n",
    "    # Compute the x and y coordinates\n",
    "    x_coords = -0.5 * hex_width * a_coords + hex_width * b_coords\n",
    "    y_coords = (hex_width * np.sqrt(3) / 2) * a_coords\n",
    "\n",
    "    # Stack x and y coordinates into a single array of shape (N, 2)\n",
    "    converted_coords = np.column_stack((x_coords, y_coords))\n",
    "\n",
    "    return converted_coords\n",
    "\n",
    "\n",
    "def convert_coords(coords, h=1):\n",
    "    # Extract a and b coordinates from the input array\n",
    "    a_coords = coords[:, 0]\n",
    "    b_coords = coords[:, 1]\n",
    "\n",
    "    # Compute the x and y coordinates using the transformation formulas\n",
    "    x_coords = (-h * np.sqrt(3) / 2) * a_coords\n",
    "    y_coords = (-h / 2) * a_coords + h * b_coords\n",
    "\n",
    "    # Stack x and y coordinates into a single array of shape (N, 2)\n",
    "    converted_coords = np.column_stack((x_coords, y_coords))\n",
    "\n",
    "    return converted_coords\n",
    "\n",
    "\n",
    "\n",
    "\n",
    "def get_hex_coords(n, number_of_rings=None):\n",
    "    hex_coords = []\n",
    "\n",
    "    # how many rings are needed for n hexes? With n rings there are 3n^2 - 3n + 1 hexes\n",
    "    #\\frac{3+\\sqrt{12x-3}}{6}\n",
    "    if not number_of_rings:\n",
    "        number_of_rings = np.ceil((3+np.sqrt(12*n-3))/6)\n",
    "        print(f\"{number_of_rings} needed for {n} hexes\")\n",
    "\n",
    "    for a in np.arange(number_of_rings-1, -number_of_rings, -1):\n",
    "        b_start = -number_of_rings+1+a if a > 0 else -number_of_rings+1\n",
    "        b_end = number_of_rings-1 if a > 0 else number_of_rings-1+a\n",
    "        #for b in range(b_start, b_end+1):\n",
    "        for b in np.arange(b_start, b_end+1):\n",
    "            hex_coords.append((a, b))\n",
    "\n",
    "    return np.array(hex_coords)[:n]\n",
    "\n",
    "def get_ring_numbers(number_of_rings):\n",
    "    ring_numbers = []\n",
    "\n",
    "    existing_rings = np.array([])\n",
    "    for a in np.arange(number_of_rings, 0, -1):\n",
    "        ring_numbers.append((np.concatenate((existing_rings, np.array([a]).repeat(a), existing_rings[::-1]))))\n",
    "        existing_rings = np.concatenate((existing_rings, np.array([a])))\n",
    "\n",
    "    # Reverse the list excluding the last element\n",
    "    reversed_part = ring_numbers[:-1][::-1]\n",
    "\n",
    "    # Append the reversed part to the original list\n",
    "    ring_numbers = ring_numbers + reversed_part\n",
    "\n",
    "    ring_numbers = np.concatenate(ring_numbers)\n",
    "    return ring_numbers\n",
    "\n",
    "\n",
    "hex_coords = get_hex_coords(61, None)\n",
    "cartesian_coords = convert_coords(hex_coords, 1)\n",
    "\n",
    "print(len(hex_coords))\n",
    "\n",
    "coords = hex_coords+cartesian_coords\n",
    "\n",
    "df = pd.DataFrame(np.column_stack((cartesian_coords, hex_coords)), columns=['x', 'y', 'a', 'b']).reset_index()\n",
    "df['ring'] = df['a'].pow(2) + df['b'].pow(2)\n",
    "\n",
    "ring_numbers = get_ring_numbers(5)\n",
    "df['ring_number'] = ring_numbers[:len(df)]\n",
    "\n",
    "\n",
    "alt.Chart(df).mark_circle(size=50).encode(\n",
    "    x='x',\n",
    "    y='y',\n",
    "    color=alt.Color('ring_number', type='nominal', scale=alt.Scale(scheme='set1')),\n",
    "    detail='ring_number',\n",
    "    tooltip=['x', 'y', 'a', 'b', 'ring','index',]\n",
    ").configure_axis(\n",
    "    grid=False\n",
    ").configure_view(\n",
    "    strokeWidth=0\n",
    ").properties(\n",
    "    width=400,\n",
    "    height=400\n",
    ").interactive()\n",
    "\n",
    "\n",
    "\n"
   ]
  },
  {
   "cell_type": "code",
   "execution_count": 244,
   "metadata": {},
   "outputs": [
    {
     "data": {
      "text/plain": [
       "array([ 2.        , -3.46410162])"
      ]
     },
     "execution_count": 244,
     "metadata": {},
     "output_type": "execute_result"
    }
   ],
   "source": [
    "xyCoords = transform_ring_coords(hex_coords, hex_width=1)\n",
    "xyCoords[-1]"
   ]
  },
  {
   "cell_type": "code",
   "execution_count": 231,
   "metadata": {},
   "outputs": [
    {
     "data": {
      "text/plain": [
       "array([5., 5., 5., 5., 5., 5., 4., 4., 4., 4., 5., 5., 4., 3., 3., 3., 4.,\n",
       "       5., 5., 4., 3., 2., 2., 3., 4., 5., 5., 4., 3., 2., 1., 2., 3., 4.,\n",
       "       5., 5., 4., 3., 2., 2., 3., 4., 5., 5., 4., 3., 3., 3., 4., 5., 5.,\n",
       "       4., 4., 4., 4., 5., 5., 5., 5., 5., 5.])"
      ]
     },
     "execution_count": 231,
     "metadata": {},
     "output_type": "execute_result"
    }
   ],
   "source": [
    "number_of_rings = 5\n",
    "\n",
    "ring_numbers = []\n",
    "\n",
    "existing_rings = np.array([])\n",
    "for a in np.arange(number_of_rings, 0, -1):\n",
    "    ring_numbers.append((np.concatenate((existing_rings, np.array([a]).repeat(a), existing_rings[::-1]))))\n",
    "    existing_rings = np.concatenate((existing_rings, np.array([a])))\n",
    "\n",
    "# Reverse the list excluding the last element\n",
    "reversed_part = ring_numbers[:-1][::-1]\n",
    "\n",
    "# Append the reversed part to the original list\n",
    "ring_numbers = ring_numbers + reversed_part\n",
    "\n",
    "ring_numbers = np.concatenate(ring_numbers)\n",
    "ring_numbers"
   ]
  },
  {
   "cell_type": "code",
   "execution_count": 206,
   "metadata": {},
   "outputs": [
    {
     "data": {
      "text/plain": [
       "[array([5., 5., 5., 5., 5.]),\n",
       " array([5., 4., 4., 4., 4., 5.]),\n",
       " array([5., 4., 3., 3., 3., 4., 5.]),\n",
       " array([5., 4., 3., 2., 2., 3., 4., 5.]),\n",
       " array([5., 4., 3., 2., 1., 2., 3., 4., 5.])]"
      ]
     },
     "execution_count": 206,
     "metadata": {},
     "output_type": "execute_result"
    }
   ],
   "source": [
    "ring_numbers"
   ]
  },
  {
   "cell_type": "code",
   "execution_count": 203,
   "metadata": {},
   "outputs": [
    {
     "data": {
      "text/plain": [
       "list"
      ]
     },
     "execution_count": 203,
     "metadata": {},
     "output_type": "execute_result"
    }
   ],
   "source": [
    "type(ring_numbers)"
   ]
  },
  {
   "cell_type": "code",
   "execution_count": 200,
   "metadata": {},
   "outputs": [
    {
     "data": {
      "text/plain": [
       "[array([5., 5., 5., 5., 5.]),\n",
       " array([5., 4., 4., 4., 4., 5.]),\n",
       " array([5., 4., 3., 3., 3., 4., 5.]),\n",
       " array([5., 4., 3., 2., 2., 3., 4., 5.]),\n",
       " array([5., 4., 3., 2., 1., 2., 3., 4., 5.])]"
      ]
     },
     "execution_count": 200,
     "metadata": {},
     "output_type": "execute_result"
    }
   ],
   "source": [
    "ring_numbers"
   ]
  },
  {
   "cell_type": "code",
   "execution_count": null,
   "metadata": {},
   "outputs": [],
   "source": [
    "(1,2,3)"
   ]
  },
  {
   "cell_type": "code",
   "execution_count": null,
   "metadata": {},
   "outputs": [],
   "source": [
    "existing_rings\n",
    "np.array([a]).repeat(a)\n",
    "existing_rings[::-1]\n",
    "np.concatenate(existing_rings, np.array([a]).repeat(a))"
   ]
  },
  {
   "cell_type": "code",
   "execution_count": null,
   "metadata": {},
   "outputs": [],
   "source": [
    "np.concatenate((existing_rings, np.array([a]).repeat(a), existing_rings[::-1])) "
   ]
  },
  {
   "cell_type": "code",
   "execution_count": null,
   "metadata": {},
   "outputs": [],
   "source": [
    "existing_rings[::-1]"
   ]
  },
  {
   "cell_type": "code",
   "execution_count": null,
   "metadata": {},
   "outputs": [],
   "source": [
    "np.array([a]).repeat(a)"
   ]
  },
  {
   "cell_type": "code",
   "execution_count": null,
   "metadata": {},
   "outputs": [],
   "source": [
    "existing_rings"
   ]
  },
  {
   "cell_type": "code",
   "execution_count": null,
   "metadata": {},
   "outputs": [],
   "source": [
    "np.array"
   ]
  },
  {
   "cell_type": "code",
   "execution_count": null,
   "metadata": {},
   "outputs": [],
   "source": [
    "np.array([8]).repeat(8)"
   ]
  },
  {
   "cell_type": "code",
   "execution_count": null,
   "metadata": {},
   "outputs": [],
   "source": [
    "np.array([1,2,3,]).reverse()"
   ]
  },
  {
   "cell_type": "code",
   "execution_count": null,
   "metadata": {},
   "outputs": [],
   "source": [
    "[5]*4"
   ]
  },
  {
   "cell_type": "code",
   "execution_count": null,
   "metadata": {},
   "outputs": [],
   "source": [
    "len(hex_coords)"
   ]
  },
  {
   "cell_type": "code",
   "execution_count": null,
   "metadata": {},
   "outputs": [],
   "source": [
    "len(get_hex_coords(None, 5))"
   ]
  },
  {
   "cell_type": "code",
   "execution_count": null,
   "metadata": {},
   "outputs": [],
   "source": [
    "get_hex_coords(60)"
   ]
  },
  {
   "cell_type": "code",
   "execution_count": null,
   "metadata": {},
   "outputs": [],
   "source": [
    "df"
   ]
  },
  {
   "cell_type": "code",
   "execution_count": null,
   "metadata": {},
   "outputs": [],
   "source": [
    "np.arange(-4, 0+1)"
   ]
  },
  {
   "cell_type": "code",
   "execution_count": null,
   "metadata": {},
   "outputs": [],
   "source": [
    "len(cartesian_coords)"
   ]
  },
  {
   "cell_type": "code",
   "execution_count": null,
   "metadata": {},
   "outputs": [],
   "source": [
    "cartesian_coords[:56]"
   ]
  },
  {
   "cell_type": "code",
   "execution_count": null,
   "metadata": {},
   "outputs": [],
   "source": [
    "np.arange(4, -5, -1)"
   ]
  },
  {
   "cell_type": "code",
   "execution_count": null,
   "metadata": {},
   "outputs": [],
   "source": [
    "hex_coords"
   ]
  },
  {
   "cell_type": "code",
   "execution_count": null,
   "metadata": {},
   "outputs": [],
   "source": [
    "hex_coords = get_hex_coords(4)\n",
    "\n",
    "np.ceil(4+5/6)"
   ]
  },
  {
   "cell_type": "code",
   "execution_count": null,
   "metadata": {},
   "outputs": [],
   "source": [
    "(4+5)/6"
   ]
  }
 ],
 "metadata": {
  "kernelspec": {
   "display_name": "base",
   "language": "python",
   "name": "python3"
  },
  "language_info": {
   "codemirror_mode": {
    "name": "ipython",
    "version": 3
   },
   "file_extension": ".py",
   "mimetype": "text/x-python",
   "name": "python",
   "nbconvert_exporter": "python",
   "pygments_lexer": "ipython3",
   "version": "3.1.-1"
  }
 },
 "nbformat": 4,
 "nbformat_minor": 2
}
