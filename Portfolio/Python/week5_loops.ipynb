{
 "cells": [
  {
   "cell_type": "markdown",
   "metadata": {},
   "source": [
    "# Loops to download FRED data"
   ]
  },
  {
   "cell_type": "code",
   "execution_count": 3,
   "metadata": {},
   "outputs": [],
   "source": [
    "# /// Import tools that we will need:\n",
    "\n",
    "# // Opening web sites and web scraping: \n",
    "import requests\n",
    "\n",
    "# // OS. Sometimes need this for finding working directory:\n",
    "import os\n",
    "\n",
    "# // JSON. This helps us make JSON look prettier and easier to read\n",
    "import json"
   ]
  },
  {
   "cell_type": "code",
   "execution_count": 2,
   "metadata": {},
   "outputs": [
    {
     "name": "stdout",
     "output_type": "stream",
     "text": [
      "https://api.stlouisfed.org/fred/series/observations?series_id=M1REAL&api_key=22ee7a76e736e32f54f5df0a7171538d&file_type=json\n",
      "https://api.stlouisfed.org/fred/series/observations?series_id=WALCL&api_key=22ee7a76e736e32f54f5df0a7171538d&file_type=json\n",
      "https://api.stlouisfed.org/fred/series/observations?series_id=PCEPI&api_key=22ee7a76e736e32f54f5df0a7171538d&file_type=json\n",
      "https://api.stlouisfed.org/fred/series/observations?series_id=GOLDPMGBD228NLBM&api_key=22ee7a76e736e32f54f5df0a7171538d&file_type=json\n",
      "https://api.stlouisfed.org/fred/series/observations?series_id=CPALTT01USM657N&api_key=22ee7a76e736e32f54f5df0a7171538d&file_type=json\n",
      "https://api.stlouisfed.org/fred/series/observations?series_id=PPIACO&api_key=22ee7a76e736e32f54f5df0a7171538d&file_type=json\n"
     ]
    }
   ],
   "source": [
    "# My FRED API Key = 838a40e4f5a37b6b4d8c9cfc4b1abaff\n",
    "\n",
    "# real m1 money US - M1REAL \n",
    "\n",
    "# Total Assets (Less Eliminations from Consolidation) - WALCL\n",
    "\n",
    "# inflation - PCEPI\n",
    "\n",
    "# gold price, U.S. Dollars per Troy Ounce - GOLDPMGBD228NLBM\n",
    "\n",
    "# CPI - CPALTT01USM657N\n",
    "\n",
    "# Producer Price Index by Commodity: All Commodities - PPIACO\n",
    "\n",
    "# Producer Price Index by Industry: Total Manufacturing Industries - PCUOMFGOMFG\n",
    "\n",
    "####################################\n",
    "\n",
    "# SET A URL BASE, THAT INCUDES EVERYTHING THAT DOESN'T CHANGE:\n",
    "url_base = \"https://api.stlouisfed.org/fred/series/observations?series_id={}&api_key=22ee7a76e736e32f54f5df0a7171538d&file_type=json\"\n",
    "\n",
    "# NOW PICK ALL THE SERIES THAT WE ARE INTERESTED IN:\n",
    "fredSeries = ['M1REAL', 'WALCL', 'PCEPI', 'GOLDPMGBD228NLBM', 'CPALTT01USM657N', 'PPIACO']\n",
    "\n",
    "# // Begin a loop, dealing with series one by one:\n",
    "for i in fredSeries:  \n",
    "   # // Build the URL for this iteration of the loop, and check what we are getting:\n",
    "   URL = url_base.format(i)\n",
    "   print(URL)"
   ]
  },
  {
   "cell_type": "code",
   "execution_count": null,
   "metadata": {},
   "outputs": [],
   "source": [
    "## PUTTING THIS ALL TOGETHER:\n",
    "\n",
    "# // Set the base url:\n",
    "url_base = \"https://api.stlouisfed.org/fred/series/observations?series_id={}&api_key=22ee7a76e736e32f54f5df0a7171538d&file_type=json\"\n",
    "\n",
    "# // Set the base fileName:\n",
    "file_base = \"data_FRED-{}.json\"\n",
    "\n",
    "# // Pick the series that I want:\n",
    "fredSeries = ['M1REAL', 'WALCL', 'PCEPI', 'GOLDPMGBD228NLBM', 'CPALTT01USM657N', 'PPIACO', 'PCUOMFGOMFG']\n",
    "\n",
    "# // Begin a loop, dealing with each series, one by one:\n",
    "for i in fredSeries:  \n",
    "\n",
    "   # // Print the iteration of the loop we are on:\n",
    "   # // This is not necessary but can be helpful. \n",
    "   print(i) \n",
    "  \n",
    "   # // Build the URL for this iteration of the loop, and check what we are getting:\n",
    "   URL = url_base.format(i)\n",
    "   print(URL)\n",
    "   \n",
    "   # // Request the html from the URL:\n",
    "   data = requests.get(URL).json()\n",
    "   print(data)\n",
    "\n",
    "   # // Set the filename, and check what we are getting:\n",
    "   fileName = file_base.format(i)\n",
    "   print(fileName)\n",
    "\n",
    "   # /// Save the file:\n",
    "   with open(fileName, 'w', encoding='utf-8') as f:\n",
    "     json.dump(data, f, ensure_ascii=False, indent=4)"
   ]
  }
 ],
 "metadata": {
  "interpreter": {
   "hash": "76699b211949654ce6eb92cb0f1aff65f5c6ef8779e192a656806f2b87a8e13c"
  },
  "kernelspec": {
   "display_name": "Python 3.8.5 64-bit ('base': conda)",
   "language": "python",
   "name": "python3"
  },
  "language_info": {
   "codemirror_mode": {
    "name": "ipython",
    "version": 3
   },
   "file_extension": ".py",
   "mimetype": "text/x-python",
   "name": "python",
   "nbconvert_exporter": "python",
   "pygments_lexer": "ipython3",
   "version": "3.8.5"
  },
  "orig_nbformat": 4
 },
 "nbformat": 4,
 "nbformat_minor": 2
}
