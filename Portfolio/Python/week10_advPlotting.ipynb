{
 "cells": [
  {
   "cell_type": "markdown",
   "metadata": {},
   "source": [
    "Week 9 Homework\n",
    "    - build a chart with two or more quantitative dimensions\n",
    "    - use any learnt technique\n",
    "        - correlation\n",
    "        - regression\n",
    "        - clustering\n",
    "        - classification"
   ]
  },
  {
   "cell_type": "code",
   "execution_count": 1,
   "metadata": {},
   "outputs": [
    {
     "name": "stdout",
     "output_type": "stream",
     "text": [
      "Requirement already satisfied: certifi in /Users/joshhellings/opt/anaconda3/lib/python3.8/site-packages (2020.12.5)\n",
      "Note: you may need to restart the kernel to use updated packages.\n"
     ]
    }
   ],
   "source": [
    "# to handle  data retrieval\n",
    "import urllib3\n",
    "from urllib3 import request\n",
    "# to handle certificate verification\n",
    "import certifi\n",
    "# to manage json data\n",
    "import json\n",
    "# for pandas dataframes\n",
    "import pandas as pd\n",
    "# uncomment below if installation needed (not necessary in Colab)\n",
    "# %pip install certifi\n",
    "\n",
    "import datetime\n",
    "import numpy as np"
   ]
  },
  {
   "cell_type": "code",
   "execution_count": 2,
   "metadata": {},
   "outputs": [],
   "source": [
    "# handle certificate verification and SSL warnings\n",
    "# https://urllib3.readthedocs.io/en/latest/user-guide.html#ssl\n",
    "http = urllib3.PoolManager(\n",
    "       cert_reqs='CERT_REQUIRED',\n",
    "       ca_certs=certifi.where())"
   ]
  },
  {
   "cell_type": "code",
   "execution_count": 3,
   "metadata": {},
   "outputs": [
    {
     "data": {
      "text/plain": [
       "200"
      ]
     },
     "execution_count": 3,
     "metadata": {},
     "output_type": "execute_result"
    }
   ],
   "source": [
    "# get data from the API\n",
    "url = 'https://www.metals-api.com/api/timeseries?access_key=gf5zvlfn2iypu50ounc6qa80p1r4c7900skcgdj15c6m9mqn8pnlm9k36szc&start_date=2021-01-05%20&%20end_date=2021-12-31&base=xau&symbols=xau'\n",
    "r = http.request('GET', url)\n",
    "r.status"
   ]
  },
  {
   "cell_type": "code",
   "execution_count": 75,
   "metadata": {},
   "outputs": [],
   "source": [
    "# decode json data into a dict object\n",
    "data = json.loads(r.data.decode('utf-8'))"
   ]
  },
  {
   "cell_type": "code",
   "execution_count": 5,
   "metadata": {},
   "outputs": [
    {
     "data": {
      "text/html": [
       "<div>\n",
       "<style scoped>\n",
       "    .dataframe tbody tr th:only-of-type {\n",
       "        vertical-align: middle;\n",
       "    }\n",
       "\n",
       "    .dataframe tbody tr th {\n",
       "        vertical-align: top;\n",
       "    }\n",
       "\n",
       "    .dataframe thead th {\n",
       "        text-align: right;\n",
       "    }\n",
       "</style>\n",
       "<table border=\"1\" class=\"dataframe\">\n",
       "  <thead>\n",
       "    <tr style=\"text-align: right;\">\n",
       "      <th></th>\n",
       "      <th>0</th>\n",
       "      <th>1</th>\n",
       "    </tr>\n",
       "  </thead>\n",
       "  <tbody>\n",
       "    <tr>\n",
       "      <th>0</th>\n",
       "      <td>rates.2021-01-05.XAU</td>\n",
       "      <td>0.000515</td>\n",
       "    </tr>\n",
       "    <tr>\n",
       "      <th>1</th>\n",
       "      <td>rates.2021-01-06.XAU</td>\n",
       "      <td>0.000513</td>\n",
       "    </tr>\n",
       "    <tr>\n",
       "      <th>2</th>\n",
       "      <td>rates.2021-01-07.XAU</td>\n",
       "      <td>0.00052</td>\n",
       "    </tr>\n",
       "    <tr>\n",
       "      <th>3</th>\n",
       "      <td>rates.2021-01-08.XAU</td>\n",
       "      <td>0.000522</td>\n",
       "    </tr>\n",
       "    <tr>\n",
       "      <th>4</th>\n",
       "      <td>rates.2021-01-09.XAU</td>\n",
       "      <td>0.000541</td>\n",
       "    </tr>\n",
       "    <tr>\n",
       "      <th>...</th>\n",
       "      <td>...</td>\n",
       "      <td>...</td>\n",
       "    </tr>\n",
       "    <tr>\n",
       "      <th>346</th>\n",
       "      <td>rates.2021-12-27.XAU</td>\n",
       "      <td>0.000553</td>\n",
       "    </tr>\n",
       "    <tr>\n",
       "      <th>347</th>\n",
       "      <td>rates.2021-12-28.XAU</td>\n",
       "      <td>0.000553</td>\n",
       "    </tr>\n",
       "    <tr>\n",
       "      <th>348</th>\n",
       "      <td>rates.2021-12-29.XAU</td>\n",
       "      <td>0.000553</td>\n",
       "    </tr>\n",
       "    <tr>\n",
       "      <th>349</th>\n",
       "      <td>rates.2021-12-30.XAU</td>\n",
       "      <td>0.000554</td>\n",
       "    </tr>\n",
       "    <tr>\n",
       "      <th>350</th>\n",
       "      <td>rates.2021-12-31.XAU</td>\n",
       "      <td>0.000551</td>\n",
       "    </tr>\n",
       "  </tbody>\n",
       "</table>\n",
       "<p>351 rows × 2 columns</p>\n",
       "</div>"
      ],
      "text/plain": [
       "                        0         1\n",
       "0    rates.2021-01-05.XAU  0.000515\n",
       "1    rates.2021-01-06.XAU  0.000513\n",
       "2    rates.2021-01-07.XAU   0.00052\n",
       "3    rates.2021-01-08.XAU  0.000522\n",
       "4    rates.2021-01-09.XAU  0.000541\n",
       "..                    ...       ...\n",
       "346  rates.2021-12-27.XAU  0.000553\n",
       "347  rates.2021-12-28.XAU  0.000553\n",
       "348  rates.2021-12-29.XAU  0.000553\n",
       "349  rates.2021-12-30.XAU  0.000554\n",
       "350  rates.2021-12-31.XAU  0.000551\n",
       "\n",
       "[351 rows x 2 columns]"
      ]
     },
     "execution_count": 5,
     "metadata": {},
     "output_type": "execute_result"
    }
   ],
   "source": [
    "df = pd.json_normalize(data)\n",
    "df = df.drop(df.columns[[0, 1, 2, 3, 4, 5]], axis=1)  # df.columns is zero-based pd.Index\n",
    "df.loc[-1] = df.columns # adding a new row with column headers\n",
    "df.index = df.index + 1  # shifting index\n",
    "df = df.sort_index()  # sorting by index\n",
    "# transpose this\n",
    "df = df.T\n",
    "df.reset_index(inplace=True, drop=True)\n"
   ]
  },
  {
   "cell_type": "code",
   "execution_count": 6,
   "metadata": {},
   "outputs": [
    {
     "data": {
      "text/html": [
       "<div>\n",
       "<style scoped>\n",
       "    .dataframe tbody tr th:only-of-type {\n",
       "        vertical-align: middle;\n",
       "    }\n",
       "\n",
       "    .dataframe tbody tr th {\n",
       "        vertical-align: top;\n",
       "    }\n",
       "\n",
       "    .dataframe thead th {\n",
       "        text-align: right;\n",
       "    }\n",
       "</style>\n",
       "<table border=\"1\" class=\"dataframe\">\n",
       "  <thead>\n",
       "    <tr style=\"text-align: right;\">\n",
       "      <th></th>\n",
       "      <th>0</th>\n",
       "      <th>1</th>\n",
       "      <th>Per Ounce ($)</th>\n",
       "    </tr>\n",
       "  </thead>\n",
       "  <tbody>\n",
       "    <tr>\n",
       "      <th>0</th>\n",
       "      <td>2021-01-05</td>\n",
       "      <td>0.000515</td>\n",
       "      <td>1941.126412</td>\n",
       "    </tr>\n",
       "    <tr>\n",
       "      <th>1</th>\n",
       "      <td>2021-01-06</td>\n",
       "      <td>0.000513</td>\n",
       "      <td>1948.986411</td>\n",
       "    </tr>\n",
       "    <tr>\n",
       "      <th>2</th>\n",
       "      <td>2021-01-07</td>\n",
       "      <td>0.00052</td>\n",
       "      <td>1922.750056</td>\n",
       "    </tr>\n",
       "    <tr>\n",
       "      <th>3</th>\n",
       "      <td>2021-01-08</td>\n",
       "      <td>0.000522</td>\n",
       "      <td>1915.325747</td>\n",
       "    </tr>\n",
       "    <tr>\n",
       "      <th>4</th>\n",
       "      <td>2021-01-09</td>\n",
       "      <td>0.000541</td>\n",
       "      <td>1847.856</td>\n",
       "    </tr>\n",
       "    <tr>\n",
       "      <th>...</th>\n",
       "      <td>...</td>\n",
       "      <td>...</td>\n",
       "      <td>...</td>\n",
       "    </tr>\n",
       "    <tr>\n",
       "      <th>346</th>\n",
       "      <td>2021-12-27</td>\n",
       "      <td>0.000553</td>\n",
       "      <td>1808.119371</td>\n",
       "    </tr>\n",
       "    <tr>\n",
       "      <th>347</th>\n",
       "      <td>2021-12-28</td>\n",
       "      <td>0.000553</td>\n",
       "      <td>1809.910986</td>\n",
       "    </tr>\n",
       "    <tr>\n",
       "      <th>348</th>\n",
       "      <td>2021-12-29</td>\n",
       "      <td>0.000553</td>\n",
       "      <td>1808.028979</td>\n",
       "    </tr>\n",
       "    <tr>\n",
       "      <th>349</th>\n",
       "      <td>2021-12-30</td>\n",
       "      <td>0.000554</td>\n",
       "      <td>1804.025857</td>\n",
       "    </tr>\n",
       "    <tr>\n",
       "      <th>350</th>\n",
       "      <td>2021-12-31</td>\n",
       "      <td>0.000551</td>\n",
       "      <td>1814.065703</td>\n",
       "    </tr>\n",
       "  </tbody>\n",
       "</table>\n",
       "<p>351 rows × 3 columns</p>\n",
       "</div>"
      ],
      "text/plain": [
       "              0         1 Per Ounce ($)\n",
       "0    2021-01-05  0.000515   1941.126412\n",
       "1    2021-01-06  0.000513   1948.986411\n",
       "2    2021-01-07   0.00052   1922.750056\n",
       "3    2021-01-08  0.000522   1915.325747\n",
       "4    2021-01-09  0.000541      1847.856\n",
       "..          ...       ...           ...\n",
       "346  2021-12-27  0.000553   1808.119371\n",
       "347  2021-12-28  0.000553   1809.910986\n",
       "348  2021-12-29  0.000553   1808.028979\n",
       "349  2021-12-30  0.000554   1804.025857\n",
       "350  2021-12-31  0.000551   1814.065703\n",
       "\n",
       "[351 rows x 3 columns]"
      ]
     },
     "execution_count": 6,
     "metadata": {},
     "output_type": "execute_result"
    }
   ],
   "source": [
    "df[0] = df[0].str.replace('rates.', '', regex=True).str.replace('.XAU', '', regex=True)\n",
    "df['Per Ounce ($)'] = 1/df[1]\n",
    "df"
   ]
  },
  {
   "cell_type": "markdown",
   "metadata": {},
   "source": [
    "# Import PAXG pricing data as proxy for gold\n",
    "    - gold price from metals api has some missing data points"
   ]
  },
  {
   "cell_type": "code",
   "execution_count": 58,
   "metadata": {},
   "outputs": [],
   "source": [
    "df1 = pd.read_csv('paxg-usd-max.csv')\n",
    "df1['snapped_at'] = df1['snapped_at'].str.replace(' UTC', '', regex=True) # remove text on date timestamps\n",
    "df1['snapped_at'] = pd.to_datetime(df1['snapped_at']) #convert to date format\n",
    "df1['PAXGdayRtn'] = df1['price'].pct_change(1) # calculate daily returns\n",
    "df1 = df1.drop(df1.columns[[1,2,3]], axis=1) # delete unnecessary columns\n",
    "df1 = df1.rename(columns={'snapped_at': 'date'}) #rename date column\n",
    "df1 = df1.set_index(['date']) #set date as index column\n",
    "\n",
    "# create range from which to exclude data\n",
    "start = pd.to_datetime('2020-12-31')\n",
    "end = pd.to_datetime('2022-01-01')\n",
    "# select date after start and then before end\n",
    "df1 = df1.loc[(df1.index > start)]\n",
    "df1 = df1.loc[(df1.index < end)]"
   ]
  },
  {
   "cell_type": "code",
   "execution_count": 59,
   "metadata": {},
   "outputs": [
    {
     "data": {
      "text/html": [
       "<div>\n",
       "<style scoped>\n",
       "    .dataframe tbody tr th:only-of-type {\n",
       "        vertical-align: middle;\n",
       "    }\n",
       "\n",
       "    .dataframe tbody tr th {\n",
       "        vertical-align: top;\n",
       "    }\n",
       "\n",
       "    .dataframe thead th {\n",
       "        text-align: right;\n",
       "    }\n",
       "</style>\n",
       "<table border=\"1\" class=\"dataframe\">\n",
       "  <thead>\n",
       "    <tr style=\"text-align: right;\">\n",
       "      <th></th>\n",
       "      <th>PAXGdayRtn</th>\n",
       "    </tr>\n",
       "    <tr>\n",
       "      <th>date</th>\n",
       "      <th></th>\n",
       "    </tr>\n",
       "  </thead>\n",
       "  <tbody>\n",
       "    <tr>\n",
       "      <th>2021-01-01</th>\n",
       "      <td>0.008477</td>\n",
       "    </tr>\n",
       "    <tr>\n",
       "      <th>2021-01-02</th>\n",
       "      <td>0.000329</td>\n",
       "    </tr>\n",
       "    <tr>\n",
       "      <th>2021-01-03</th>\n",
       "      <td>0.018207</td>\n",
       "    </tr>\n",
       "    <tr>\n",
       "      <th>2021-01-04</th>\n",
       "      <td>-0.007302</td>\n",
       "    </tr>\n",
       "    <tr>\n",
       "      <th>2021-01-05</th>\n",
       "      <td>0.005926</td>\n",
       "    </tr>\n",
       "    <tr>\n",
       "      <th>...</th>\n",
       "      <td>...</td>\n",
       "    </tr>\n",
       "    <tr>\n",
       "      <th>2021-12-27</th>\n",
       "      <td>-0.001233</td>\n",
       "    </tr>\n",
       "    <tr>\n",
       "      <th>2021-12-28</th>\n",
       "      <td>0.001352</td>\n",
       "    </tr>\n",
       "    <tr>\n",
       "      <th>2021-12-29</th>\n",
       "      <td>-0.004241</td>\n",
       "    </tr>\n",
       "    <tr>\n",
       "      <th>2021-12-30</th>\n",
       "      <td>0.000780</td>\n",
       "    </tr>\n",
       "    <tr>\n",
       "      <th>2021-12-31</th>\n",
       "      <td>0.008300</td>\n",
       "    </tr>\n",
       "  </tbody>\n",
       "</table>\n",
       "<p>365 rows × 1 columns</p>\n",
       "</div>"
      ],
      "text/plain": [
       "            PAXGdayRtn\n",
       "date                  \n",
       "2021-01-01    0.008477\n",
       "2021-01-02    0.000329\n",
       "2021-01-03    0.018207\n",
       "2021-01-04   -0.007302\n",
       "2021-01-05    0.005926\n",
       "...                ...\n",
       "2021-12-27   -0.001233\n",
       "2021-12-28    0.001352\n",
       "2021-12-29   -0.004241\n",
       "2021-12-30    0.000780\n",
       "2021-12-31    0.008300\n",
       "\n",
       "[365 rows x 1 columns]"
      ]
     },
     "execution_count": 59,
     "metadata": {},
     "output_type": "execute_result"
    }
   ],
   "source": [
    "df1"
   ]
  },
  {
   "cell_type": "markdown",
   "metadata": {},
   "source": [
    "## Import BTC pricing data"
   ]
  },
  {
   "cell_type": "code",
   "execution_count": 54,
   "metadata": {},
   "outputs": [],
   "source": [
    "# import BTC daily pricing data from Nomics API \n",
    "URL2 = 'https://api.nomics.com/v1/exchange-rates/history?key=8bbf8728e16a7a780c4bffa13369437393a4da03&currency=BTC&start=2020-12-31T00%3A00%3A00Z&end=2021-12-31T00%3A00%3A00Z'\n",
    "\n",
    "df2 = pd.read_json(URL2)\n",
    "df2['BTCdayRtn'] = df2['rate'].pct_change(1) # calculate daily returns\n",
    "df2 = df2.rename(columns={'timestamp': 'date'}) #rename date column\n",
    "df2 = df2.set_index(['date']) #set date as index column\n",
    "df2 = df2.drop(df2.columns[[0]], axis=1) # delete unnecessary columns\n",
    "\n",
    "# create range from which to exclude data\n",
    "start_btc = pd.to_datetime('2020-12-31 00:00:00+00:00')\n",
    "# select date after start\n",
    "df2 = df2.loc[(df2.index > start_btc)]"
   ]
  },
  {
   "cell_type": "markdown",
   "metadata": {},
   "source": [
    "## Import ETH pricing data"
   ]
  },
  {
   "cell_type": "code",
   "execution_count": 55,
   "metadata": {},
   "outputs": [],
   "source": [
    "URL3 = 'https://api.nomics.com/v1/exchange-rates/history?key=8bbf8728e16a7a780c4bffa13369437393a4da03&currency=ETH&start=2020-12-31T00%3A00%3A00Z&end=2021-12-31T00%3A00%3A00Z'\n",
    "\n",
    "df3 = pd.read_json(URL3)\n",
    "df3['ETHdayRtn'] = df3['rate'].pct_change(1) # calculate daily returns\n",
    "df3 = df3.rename(columns={'timestamp': 'date'}) #rename date column\n",
    "df3 = df3.set_index(['date']) #set date as index column\n",
    "df3 = df3.drop(df3.columns[[0]], axis=1) # delete unnecessary columns\n",
    "\n",
    "# create range from which to exclude data\n",
    "start_eth = pd.to_datetime('2020-12-31 00:00:00+00:00')\n",
    "# select date after start\n",
    "df3 = df3.loc[(df3.index > start_eth)]"
   ]
  },
  {
   "cell_type": "markdown",
   "metadata": {},
   "source": [
    "# Merge dataframes"
   ]
  },
  {
   "cell_type": "code",
   "execution_count": 60,
   "metadata": {},
   "outputs": [
    {
     "data": {
      "text/html": [
       "<div>\n",
       "<style scoped>\n",
       "    .dataframe tbody tr th:only-of-type {\n",
       "        vertical-align: middle;\n",
       "    }\n",
       "\n",
       "    .dataframe tbody tr th {\n",
       "        vertical-align: top;\n",
       "    }\n",
       "\n",
       "    .dataframe thead th {\n",
       "        text-align: right;\n",
       "    }\n",
       "</style>\n",
       "<table border=\"1\" class=\"dataframe\">\n",
       "  <thead>\n",
       "    <tr style=\"text-align: right;\">\n",
       "      <th></th>\n",
       "      <th>PAXGdayRtn</th>\n",
       "      <th>date</th>\n",
       "      <th>BTCdayRtn</th>\n",
       "      <th>ETHdayRtn</th>\n",
       "    </tr>\n",
       "  </thead>\n",
       "  <tbody>\n",
       "    <tr>\n",
       "      <th>0</th>\n",
       "      <td>0.008477</td>\n",
       "      <td>2021-01-01</td>\n",
       "      <td>0.013689</td>\n",
       "      <td>-0.009840</td>\n",
       "    </tr>\n",
       "    <tr>\n",
       "      <th>1</th>\n",
       "      <td>0.000329</td>\n",
       "      <td>2021-01-02</td>\n",
       "      <td>0.093533</td>\n",
       "      <td>0.058525</td>\n",
       "    </tr>\n",
       "    <tr>\n",
       "      <th>2</th>\n",
       "      <td>0.018207</td>\n",
       "      <td>2021-01-03</td>\n",
       "      <td>0.023206</td>\n",
       "      <td>0.261837</td>\n",
       "    </tr>\n",
       "    <tr>\n",
       "      <th>3</th>\n",
       "      <td>-0.007302</td>\n",
       "      <td>2021-01-04</td>\n",
       "      <td>-0.025759</td>\n",
       "      <td>0.069357</td>\n",
       "    </tr>\n",
       "    <tr>\n",
       "      <th>4</th>\n",
       "      <td>0.005926</td>\n",
       "      <td>2021-01-05</td>\n",
       "      <td>0.061496</td>\n",
       "      <td>0.057009</td>\n",
       "    </tr>\n",
       "  </tbody>\n",
       "</table>\n",
       "</div>"
      ],
      "text/plain": [
       "   PAXGdayRtn       date  BTCdayRtn  ETHdayRtn\n",
       "0    0.008477 2021-01-01   0.013689  -0.009840\n",
       "1    0.000329 2021-01-02   0.093533   0.058525\n",
       "2    0.018207 2021-01-03   0.023206   0.261837\n",
       "3   -0.007302 2021-01-04  -0.025759   0.069357\n",
       "4    0.005926 2021-01-05   0.061496   0.057009"
      ]
     },
     "execution_count": 60,
     "metadata": {},
     "output_type": "execute_result"
    }
   ],
   "source": [
    "#reset index for easier merge\n",
    "df1['date'] = df1.index\n",
    "df1.reset_index(inplace=True, drop=True)\n",
    "\n",
    "#reset index for easier merge\n",
    "df2.reset_index(inplace=True, drop=True)\n",
    "df3.reset_index(inplace=True, drop=True)\n",
    "\n",
    "merge = pd.concat([df1, df2], axis=1)\n",
    "merge = pd.concat([merge, df3], axis=1)\n",
    "merge.head()"
   ]
  },
  {
   "cell_type": "code",
   "execution_count": 64,
   "metadata": {},
   "outputs": [],
   "source": [
    "# set index as date column\n",
    "merge = merge.set_index(pd.DatetimeIndex(merge['date']).date)"
   ]
  },
  {
   "cell_type": "code",
   "execution_count": 65,
   "metadata": {},
   "outputs": [
    {
     "data": {
      "text/html": [
       "<div>\n",
       "<style scoped>\n",
       "    .dataframe tbody tr th:only-of-type {\n",
       "        vertical-align: middle;\n",
       "    }\n",
       "\n",
       "    .dataframe tbody tr th {\n",
       "        vertical-align: top;\n",
       "    }\n",
       "\n",
       "    .dataframe thead th {\n",
       "        text-align: right;\n",
       "    }\n",
       "</style>\n",
       "<table border=\"1\" class=\"dataframe\">\n",
       "  <thead>\n",
       "    <tr style=\"text-align: right;\">\n",
       "      <th></th>\n",
       "      <th>PAXGdayRtn</th>\n",
       "      <th>date</th>\n",
       "      <th>BTCdayRtn</th>\n",
       "      <th>ETHdayRtn</th>\n",
       "    </tr>\n",
       "  </thead>\n",
       "  <tbody>\n",
       "    <tr>\n",
       "      <th>2021-01-01</th>\n",
       "      <td>0.008477</td>\n",
       "      <td>2021-01-01</td>\n",
       "      <td>0.013689</td>\n",
       "      <td>-0.009840</td>\n",
       "    </tr>\n",
       "    <tr>\n",
       "      <th>2021-01-02</th>\n",
       "      <td>0.000329</td>\n",
       "      <td>2021-01-02</td>\n",
       "      <td>0.093533</td>\n",
       "      <td>0.058525</td>\n",
       "    </tr>\n",
       "    <tr>\n",
       "      <th>2021-01-03</th>\n",
       "      <td>0.018207</td>\n",
       "      <td>2021-01-03</td>\n",
       "      <td>0.023206</td>\n",
       "      <td>0.261837</td>\n",
       "    </tr>\n",
       "    <tr>\n",
       "      <th>2021-01-04</th>\n",
       "      <td>-0.007302</td>\n",
       "      <td>2021-01-04</td>\n",
       "      <td>-0.025759</td>\n",
       "      <td>0.069357</td>\n",
       "    </tr>\n",
       "    <tr>\n",
       "      <th>2021-01-05</th>\n",
       "      <td>0.005926</td>\n",
       "      <td>2021-01-05</td>\n",
       "      <td>0.061496</td>\n",
       "      <td>0.057009</td>\n",
       "    </tr>\n",
       "    <tr>\n",
       "      <th>...</th>\n",
       "      <td>...</td>\n",
       "      <td>...</td>\n",
       "      <td>...</td>\n",
       "      <td>...</td>\n",
       "    </tr>\n",
       "    <tr>\n",
       "      <th>2021-12-27</th>\n",
       "      <td>-0.001233</td>\n",
       "      <td>2021-12-27</td>\n",
       "      <td>-0.001698</td>\n",
       "      <td>-0.006427</td>\n",
       "    </tr>\n",
       "    <tr>\n",
       "      <th>2021-12-28</th>\n",
       "      <td>0.001352</td>\n",
       "      <td>2021-12-28</td>\n",
       "      <td>-0.062857</td>\n",
       "      <td>-0.061306</td>\n",
       "    </tr>\n",
       "    <tr>\n",
       "      <th>2021-12-29</th>\n",
       "      <td>-0.004241</td>\n",
       "      <td>2021-12-29</td>\n",
       "      <td>-0.023037</td>\n",
       "      <td>-0.043282</td>\n",
       "    </tr>\n",
       "    <tr>\n",
       "      <th>2021-12-30</th>\n",
       "      <td>0.000780</td>\n",
       "      <td>2021-12-30</td>\n",
       "      <td>0.014521</td>\n",
       "      <td>0.022590</td>\n",
       "    </tr>\n",
       "    <tr>\n",
       "      <th>2021-12-31</th>\n",
       "      <td>0.008300</td>\n",
       "      <td>2021-12-31</td>\n",
       "      <td>-0.019611</td>\n",
       "      <td>-0.009651</td>\n",
       "    </tr>\n",
       "  </tbody>\n",
       "</table>\n",
       "<p>365 rows × 4 columns</p>\n",
       "</div>"
      ],
      "text/plain": [
       "            PAXGdayRtn       date  BTCdayRtn  ETHdayRtn\n",
       "2021-01-01    0.008477 2021-01-01   0.013689  -0.009840\n",
       "2021-01-02    0.000329 2021-01-02   0.093533   0.058525\n",
       "2021-01-03    0.018207 2021-01-03   0.023206   0.261837\n",
       "2021-01-04   -0.007302 2021-01-04  -0.025759   0.069357\n",
       "2021-01-05    0.005926 2021-01-05   0.061496   0.057009\n",
       "...                ...        ...        ...        ...\n",
       "2021-12-27   -0.001233 2021-12-27  -0.001698  -0.006427\n",
       "2021-12-28    0.001352 2021-12-28  -0.062857  -0.061306\n",
       "2021-12-29   -0.004241 2021-12-29  -0.023037  -0.043282\n",
       "2021-12-30    0.000780 2021-12-30   0.014521   0.022590\n",
       "2021-12-31    0.008300 2021-12-31  -0.019611  -0.009651\n",
       "\n",
       "[365 rows x 4 columns]"
      ]
     },
     "execution_count": 65,
     "metadata": {},
     "output_type": "execute_result"
    }
   ],
   "source": [
    "merge"
   ]
  },
  {
   "cell_type": "markdown",
   "metadata": {},
   "source": [
    "# Plotting"
   ]
  },
  {
   "cell_type": "code",
   "execution_count": 21,
   "metadata": {},
   "outputs": [],
   "source": [
    "import matplotlib.pyplot as plt\n",
    "import seaborn as sns\n",
    "from statsmodels import api as sm\n",
    "sns.set()"
   ]
  },
  {
   "cell_type": "code",
   "execution_count": 66,
   "metadata": {},
   "outputs": [
    {
     "data": {
      "text/html": [
       "<div>\n",
       "<style scoped>\n",
       "    .dataframe tbody tr th:only-of-type {\n",
       "        vertical-align: middle;\n",
       "    }\n",
       "\n",
       "    .dataframe tbody tr th {\n",
       "        vertical-align: top;\n",
       "    }\n",
       "\n",
       "    .dataframe thead th {\n",
       "        text-align: right;\n",
       "    }\n",
       "</style>\n",
       "<table border=\"1\" class=\"dataframe\">\n",
       "  <thead>\n",
       "    <tr style=\"text-align: right;\">\n",
       "      <th></th>\n",
       "      <th>PAXGdayRtn</th>\n",
       "      <th>date</th>\n",
       "      <th>BTCdayRtn</th>\n",
       "      <th>ETHdayRtn</th>\n",
       "    </tr>\n",
       "  </thead>\n",
       "  <tbody>\n",
       "    <tr>\n",
       "      <th>2021-01-01</th>\n",
       "      <td>0.008477</td>\n",
       "      <td>2021-01-01</td>\n",
       "      <td>0.013689</td>\n",
       "      <td>-0.009840</td>\n",
       "    </tr>\n",
       "    <tr>\n",
       "      <th>2021-01-02</th>\n",
       "      <td>0.000329</td>\n",
       "      <td>2021-01-02</td>\n",
       "      <td>0.093533</td>\n",
       "      <td>0.058525</td>\n",
       "    </tr>\n",
       "    <tr>\n",
       "      <th>2021-01-03</th>\n",
       "      <td>0.018207</td>\n",
       "      <td>2021-01-03</td>\n",
       "      <td>0.023206</td>\n",
       "      <td>0.261837</td>\n",
       "    </tr>\n",
       "    <tr>\n",
       "      <th>2021-01-04</th>\n",
       "      <td>-0.007302</td>\n",
       "      <td>2021-01-04</td>\n",
       "      <td>-0.025759</td>\n",
       "      <td>0.069357</td>\n",
       "    </tr>\n",
       "    <tr>\n",
       "      <th>2021-01-05</th>\n",
       "      <td>0.005926</td>\n",
       "      <td>2021-01-05</td>\n",
       "      <td>0.061496</td>\n",
       "      <td>0.057009</td>\n",
       "    </tr>\n",
       "  </tbody>\n",
       "</table>\n",
       "</div>"
      ],
      "text/plain": [
       "            PAXGdayRtn       date  BTCdayRtn  ETHdayRtn\n",
       "2021-01-01    0.008477 2021-01-01   0.013689  -0.009840\n",
       "2021-01-02    0.000329 2021-01-02   0.093533   0.058525\n",
       "2021-01-03    0.018207 2021-01-03   0.023206   0.261837\n",
       "2021-01-04   -0.007302 2021-01-04  -0.025759   0.069357\n",
       "2021-01-05    0.005926 2021-01-05   0.061496   0.057009"
      ]
     },
     "execution_count": 66,
     "metadata": {},
     "output_type": "execute_result"
    }
   ],
   "source": [
    "merge.head()"
   ]
  },
  {
   "cell_type": "code",
   "execution_count": 67,
   "metadata": {},
   "outputs": [
    {
     "data": {
      "image/png": "[encoded data removed]",
      "text/plain": [
       "<Figure size 432x288 with 2 Axes>"
      ]
     },
     "metadata": {},
     "output_type": "display_data"
    }
   ],
   "source": [
    "#calculate correlation\n",
    "correlation = merge.corr()\n",
    "#plot correlation\n",
    "sm.graphics.plot_corr(correlation,xnames=list(correlation.columns))\n",
    "plt.show()"
   ]
  },
  {
   "cell_type": "code",
   "execution_count": 73,
   "metadata": {},
   "outputs": [
    {
     "data": {
      "text/plain": [
       "Text(0, 0.5, 'Bitcoin daily returns %')"
      ]
     },
     "execution_count": 73,
     "metadata": {},
     "output_type": "execute_result"
    },
    {
     "data": {
      "image/png": "[encoded data removed]",
      "text/plain": [
       "<Figure size 432x288 with 1 Axes>"
      ]
     },
     "metadata": {},
     "output_type": "display_data"
    }
   ],
   "source": [
    "from sklearn.linear_model import LinearRegression\n",
    "\n",
    "X = pd.DataFrame(merge['PAXGdayRtn'])\n",
    "y = pd.DataFrame(merge['BTCdayRtn'])\n",
    "\n",
    "model = LinearRegression(fit_intercept=True)\n",
    "\n",
    "model.fit(X, y)\n",
    "\n",
    "y_pred = model.predict(X)\n",
    "\n",
    "plt.scatter(X, y)\n",
    "\n",
    "plt.plot(X, y_pred)\n",
    "\n",
    "plt.title('Bitcoin vs Gold returns 2021')\n",
    "plt.xlabel('Gold daily returns (PAXG crypto used as proxy) %')\n",
    "plt.ylabel('Bitcoin daily returns %')"
   ]
  },
  {
   "cell_type": "code",
   "execution_count": 74,
   "metadata": {},
   "outputs": [
    {
     "name": "stdout",
     "output_type": "stream",
     "text": [
      "Model slope:     [-0.14561931]\n",
      "Model intercept: [0.00215929]\n"
     ]
    }
   ],
   "source": [
    "print(\"Model slope:    \", model.coef_[0])\n",
    "print(\"Model intercept:\", model.intercept_)"
   ]
  },
  {
   "cell_type": "code",
   "execution_count": 18,
   "metadata": {},
   "outputs": [],
   "source": [
    "merge.index = pd.date_range(\"1/1/2021\", periods=365, freq=\"d\", name=\"date\")"
   ]
  },
  {
   "cell_type": "code",
   "execution_count": 19,
   "metadata": {},
   "outputs": [
    {
     "data": {
      "text/plain": [
       "<AxesSubplot:xlabel='PAXGdayRtn', ylabel='BTCdayRtn'>"
      ]
     },
     "execution_count": 19,
     "metadata": {},
     "output_type": "execute_result"
    },
    {
     "data": {
      "image/png": "[encoded data removed]",
      "text/plain": [
       "<Figure size 432x288 with 1 Axes>"
      ]
     },
     "metadata": {},
     "output_type": "display_data"
    }
   ],
   "source": [
    "sns.regplot(data=merge, x=\"PAXGdayRtn\", y=\"BTCdayRtn\")"
   ]
  },
  {
   "cell_type": "code",
   "execution_count": 76,
   "metadata": {},
   "outputs": [],
   "source": [
    "# export as JSON\n",
    "merge.to_json('/Users/joshhellings/Documents/OneDrive - University of Bristol/Economics Year 3/Data Science/Github Mirror/Portfolio/Data/advPlotting.JSON', orient='records')"
   ]
  }
 ],
 "metadata": {
  "interpreter": {
   "hash": "113903349309e73f3a7191f616987ae20874fe83f45c68fdab869fbcd5d05197"
  },
  "kernelspec": {
   "display_name": "Python 3.8.8 64-bit ('base': conda)",
   "language": "python",
   "name": "python3"
  },
  "language_info": {
   "codemirror_mode": {
    "name": "ipython",
    "version": 3
   },
   "file_extension": ".py",
   "mimetype": "text/x-python",
   "name": "python",
   "nbconvert_exporter": "python",
   "pygments_lexer": "ipython3",
   "version": "3.8.8"
  },
  "orig_nbformat": 4
 },
 "nbformat": 4,
 "nbformat_minor": 2
}
